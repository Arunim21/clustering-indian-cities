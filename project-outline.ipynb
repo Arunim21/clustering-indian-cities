{
 "cells": [
  {
   "cell_type": "markdown",
   "id": "e7b013c2",
   "metadata": {},
   "source": [
    "# Features for clustering\n",
    "\n",
    "As of 01-08-22, we decided on the following classes of features to collect data for:\n",
    "1. Population\n",
    "2. Geographical boundaries for cities\n",
    "3. Building footprints\n",
    "4. Energy use - demand and supply\n",
    "5. Climate features like temperature, rainfall etc.\n",
    "6. Coastal or not\n",
    "7. Proximity to other cities"
   ]
  }
 ],
 "metadata": {
  "kernelspec": {
   "display_name": "Python 3 (ipykernel)",
   "language": "python",
   "name": "python3"
  },
  "language_info": {
   "codemirror_mode": {
    "name": "ipython",
    "version": 3
   },
   "file_extension": ".py",
   "mimetype": "text/x-python",
   "name": "python",
   "nbconvert_exporter": "python",
   "pygments_lexer": "ipython3",
   "version": "3.9.12"
  }
 },
 "nbformat": 4,
 "nbformat_minor": 5
}
